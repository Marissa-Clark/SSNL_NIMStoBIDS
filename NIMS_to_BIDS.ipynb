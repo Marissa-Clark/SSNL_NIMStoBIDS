{
 "cells": [
  {
   "cell_type": "code",
   "execution_count": null,
   "metadata": {
    "collapsed": false
   },
   "outputs": [],
   "source": [
    "print(\"Importing Libraries...\\n\")\n",
    "\n",
    "import pandas as pd\n",
    "import os\n",
    "import re\n",
    "from shutil import copyfile\n",
    "import json\n",
    "import sys"
   ]
  },
  {
   "cell_type": "code",
   "execution_count": null,
   "metadata": {
    "collapsed": false
   },
   "outputs": [],
   "source": [
    "#Get Data Filepath\n",
    "if (len(sys.argv) == 2):\n",
    "    project_filepath = str(sys.argv[1]).strip(' ')\n",
    "else:\n",
    "    #\"Data needs to be in format: \\n       Project Filename            \\n        /          \\\\              \\n    NIMS_data  BIDS_info.xlsx      \\n       /                           \\nSub1 Sub2 Sub3                     \\n\\n                                   \\n\n",
    "    print(\"NIMS_to_BIDS.py can take the project's file path as an argument\\nNo argument detected\\nPlease drag in file path from folder\")\n",
    "    project_filepath = input().strip(' ')\n",
    "\n",
    "\n",
    "#path variables\n",
    "BIDS= project_filepath + '/BIDS_data/'\n",
    "NIMS= project_filepath + '/NIMS_data/'"
   ]
  },
  {
   "cell_type": "code",
   "execution_count": null,
   "metadata": {
    "collapsed": false
   },
   "outputs": [],
   "source": [
    "#Read files\n",
    "\n",
    "#Figure out what bids info xlsx is named \n",
    "project_file_contents = os.listdir(project_filepath)\n",
    "BIDS_filename = [x for x in project_file_contents if \"BIDS_info\" in x]\n",
    "print(BIDS_filename)\n",
    "\n",
    "#Make sure there's only one bids file\n",
    "assert len(BIDS_filename) == 1, 'This folder does not have a BIDS_info file or it has more than one info file' \n",
    "\n",
    "xls = pd.ExcelFile(project_filepath + \"/\" + BIDS_filename[0])\n",
    "\n",
    "#Make folder if folder doesn't exist function\n",
    "def makefolder(name):\n",
    "    if not os.path.exists(name):\n",
    "        os.makedirs(name)\n",
    "        \n",
    "#Log Function\n"
   ]
  },
  {
   "cell_type": "code",
   "execution_count": null,
   "metadata": {
    "collapsed": false
   },
   "outputs": [],
   "source": [
    "#Load and Clean XLS File\n",
    "participants = xls.parse('participants')\n",
    "participants.participant_id = participants.participant_id.astype('str')\n",
    "\n",
    "protocol = xls.parse('protocol', convert_float=False).iloc[1:,:6] #columns 5 on are reference columns\n",
    "protocol = protocol.dropna(axis=0, thresh=3) #get rid of items that don't have a bids equivalent\n",
    "protocol.run_number = protocol.run_number.astype('str').str.strip('.0').str.zfill(2) #Convert run int to string\n",
    "\n",
    "\n",
    "#Create \"bold\" portion of filename\n",
    "protocol['bold_filename'] = ''\n",
    "protocol.loc[protocol['ANAT_or_FUNC'] == 'func', 'bold_filename'] = '_bold'\n",
    "\n",
    "#Concatanate filepath and clean\n",
    "protocol[\"BIDS_scan_title_path\"] = BIDS + \"sub-###/\" + protocol.ANAT_or_FUNC + \"/sub-###_\" + protocol.BIDS_scan_title + \"_run-\" + protocol.run_number + protocol.bold_filename + \".nii.gz\"\n",
    "protocol.BIDS_scan_title_path = protocol.BIDS_scan_title_path.str.replace('_run-nan', '') #For items that don't have runs\n",
    "\n",
    "#Create list for NIMS -> bids conversion\n",
    "NIMS_protocol_filenames = protocol.NIMS_scan_title.tolist() #Convert protocol scan titles to list\n",
    "NIMS_BIDS_conversion = protocol[[\"NIMS_scan_title\",\"BIDS_scan_title_path\"]]"
   ]
  },
  {
   "cell_type": "code",
   "execution_count": null,
   "metadata": {
    "collapsed": false
   },
   "outputs": [],
   "source": [
    "def check_against_protocol(participants,protocol): \n",
    "    \n",
    "    all_files_correct = True\n",
    "    \n",
    "    for index, row in participants.iterrows():\n",
    "\n",
    "        #If directory is there, try will work\n",
    "        try:\n",
    "            #Get all files in participant directory\n",
    "            NIMS_participant_filenames = os.listdir(NIMS + row.nims_title)\n",
    "           \n",
    "            #Delete all non-nii.gz files\n",
    "            NIMS_participant_filenames = [x for x in NIMS_participant_filenames if \".nii.gz\"  in x]\n",
    "\n",
    "            for item in set(NIMS_protocol_filenames):\n",
    "                \n",
    "                directory_filenames = [x for x in NIMS_participant_filenames if item in x]\n",
    "                protocol_filenames = NIMS_BIDS_conversion[NIMS_BIDS_conversion.NIMS_scan_title.str.contains(item)]\n",
    "                protocol_filenames = protocol_filenames.iloc[:,1].tolist()\n",
    "\n",
    "                if len(directory_filenames) < len(protocol_filenames):\n",
    "                    print('sub-{} : << {} {} files in folder {} files in protocol\\n'.\\\n",
    "                    format(str(row.participant_id), item.rjust(20), len(directory_filenames), len(protocol_filenames)))\n",
    "\n",
    "                elif len(directory_filenames) > len(protocol_filenames):\n",
    "                    print('sub-{} : >> {} {} files in folder {} files in protocol\\n'.\\\n",
    "                    format(str(row.participant_id), item.rjust(20), len(directory_filenames), len(protocol_filenames)))\n",
    "                    all_files_correct = False\n",
    "                    \n",
    "                elif len(directory_filenames) == len(protocol_filenames):\n",
    "                    print('sub-{} : == {} {} files in folder {} files in protocol\\n'.\\\n",
    "                    format(str(row.participant_id), item.rjust(20), len(directory_filenames), len(protocol_filenames)))\n",
    "\n",
    "            print(\"------------\")\n",
    "        \n",
    "        except:\n",
    "            all_files_correct = False\n",
    "            print(\"sub-\" + str(row.participant_id) + \" : -- ERROR - folder is missing \\n------------\")\n",
    "\n",
    "        \n",
    "        \n",
    "        \n",
    "    if all_files_correct:\n",
    "        print(\"\\nAll your folders match your protocol\\n\")  \n",
    "    else:\n",
    "        print(\"\\nSome folders do not match your protocol, please resolve errors\\n\")\n",
    "    \n",
    "    return all_files_correct"
   ]
  },
  {
   "cell_type": "code",
   "execution_count": null,
   "metadata": {
    "collapsed": false
   },
   "outputs": [],
   "source": [
    "def write_text_files(participants, protocol): \n",
    "    \n",
    "    def to_file(filename, content): \n",
    "        with open(BIDS + filename + \".json\", \"w\") as text_file:\n",
    "            text_file.write(content)\n",
    "    \n",
    "    #Data Description\n",
    "    dataset_description = json.dumps({\"BIDSVersion\": \"1.0.0\", \\\n",
    "                                   \"License\": \"\", \\\n",
    "                                   \"Name\": \"dummy task name\",\\\n",
    "                                   \"ReferencesAndLinks\": \"\"})\n",
    "    to_file(str(\"dataset_description\"), str(dataset_description))\n",
    "    \n",
    "\n",
    "    #Task Description\n",
    "    for item in set(protocol.loc[protocol.ANAT_or_FUNC == \"func\", 'BIDS_scan_title']):\n",
    "        full_task_name = protocol.loc[protocol.BIDS_scan_title == item, 'full_task_name']\n",
    "        full_task_name = full_task_name.reset_index(drop=True)[0] #Gets first instance of RT\n",
    "        \n",
    "        repetition_time = protocol.loc[protocol.BIDS_scan_title == item, 'repetition_time']\n",
    "        repetition_time = repetition_time.reset_index(drop=True)[0] #Gets first instance of RT\n",
    "        task_json = json.dumps({\"RepetitionTime\": repetition_time, \"TaskName\" : full_task_name})\n",
    "\n",
    "        to_file(str(item + \"_bold\"), str(task_json))\n",
    "\n",
    "    #TSV\n",
    "    participant_tsv = participants.loc[:, ['participant_id', 'sex', 'age']]\n",
    "    participant_tsv.loc[:, 'participant_id'] = \"sub-\" + participant_tsv.loc[:, 'participant_id'].apply(str)\n",
    "    #Had to write csv and then change it due to python 2/3 incompatability\n",
    "    participant_tsv.to_csv(BIDS + 'participants.tsv', index=False)\n",
    "    # Read in the file\n",
    "    with open(BIDS + 'participants.tsv', 'r') as file :\n",
    "        filedata = file.read()\n",
    "\n",
    "    # Replace the target string\n",
    "    filedata = filedata.replace(',', '\\t')\n",
    "\n",
    "    # Write the file out again\n",
    "    with open(BIDS + 'participants.tsv', 'w') as file:\n",
    "        file.write(filedata)\n",
    "    \n",
    "    \n",
    "    "
   ]
  },
  {
   "cell_type": "code",
   "execution_count": null,
   "metadata": {
    "collapsed": false
   },
   "outputs": [],
   "source": [
    "def convert_to_bids(participants, protocol):\n",
    "    \n",
    "    print(\"Comparing Folders to Protocol...\\n\")\n",
    "    \n",
    "    if check_against_protocol(participants,protocol): #Function returns true is everything matches\n",
    "        \n",
    "        print(\"Creating BIDS_data folder\\n\")\n",
    "        #Make BIDS Folder\n",
    "        makefolder(BIDS)\n",
    "        participants.participant_id.apply(lambda x: makefolder(BIDS + 'sub-' + str(x) + \"/anat\"))\n",
    "        participants.participant_id.apply(lambda x: makefolder(BIDS + 'sub-' + str(x) + \"/func\"))\n",
    "        \n",
    "        for index, row in participants.iterrows():\n",
    "            #Get files\n",
    "            NIMS_participant_filenames = os.listdir(NIMS + row.nims_title)\n",
    "\n",
    "            #Delete all non-nii.gz files from list\n",
    "            NIMS_participant_filenames = [x for x in NIMS_participant_filenames if \".nii.gz\"  in x]\n",
    "\n",
    "            for item in set(NIMS_protocol_filenames):\n",
    "                directory_filenames = [x for x in NIMS_participant_filenames if item in x]\n",
    "                protocol_filenames = NIMS_BIDS_conversion[NIMS_BIDS_conversion.NIMS_scan_title.str.contains(item)]\n",
    "                protocol_filenames = protocol_filenames.iloc[:,1].tolist()\n",
    "\n",
    "                for index, item in enumerate(directory_filenames):\n",
    "                    oldpath = (NIMS + row.nims_title + \"/\" + directory_filenames[index])\n",
    "                    newpath = (protocol_filenames[index].replace(\"###\", str(row.participant_id)))\n",
    "                    copyfile(oldpath, newpath)\n",
    "\n",
    "                    print(\"sub-\" + str(row.participant_id) + \": ++ \"+ os.path.basename(newpath).rjust(20))\n",
    "            print(\"------------\")\n",
    "\n",
    "        print(\"\\nCreating JSON and .tsv Files\")\n",
    "        \n",
    "        write_text_files(participants, protocol)\n",
    "       \n",
    "        print(\"\\nDone!\")"
   ]
  },
  {
   "cell_type": "code",
   "execution_count": null,
   "metadata": {
    "collapsed": false
   },
   "outputs": [],
   "source": [
    "convert_to_bids(participants, protocol)"
   ]
  },
  {
   "cell_type": "code",
   "execution_count": null,
   "metadata": {
    "collapsed": true
   },
   "outputs": [],
   "source": []
  },
  {
   "cell_type": "code",
   "execution_count": null,
   "metadata": {
    "collapsed": true
   },
   "outputs": [],
   "source": []
  }
 ],
 "metadata": {
  "kernelspec": {
   "display_name": "Python 3",
   "language": "python",
   "name": "python3"
  },
  "language_info": {
   "codemirror_mode": {
    "name": "ipython",
    "version": 3
   },
   "file_extension": ".py",
   "mimetype": "text/x-python",
   "name": "python",
   "nbconvert_exporter": "python",
   "pygments_lexer": "ipython3",
   "version": "3.6.0"
  }
 },
 "nbformat": 4,
 "nbformat_minor": 2
}
